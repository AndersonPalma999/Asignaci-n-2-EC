{
  "nbformat": 4,
  "nbformat_minor": 0,
  "metadata": {
    "colab": {
      "name": "Asignación_2.ipynb",
      "provenance": [],
      "collapsed_sections": []
    },
    "kernelspec": {
      "name": "python3",
      "display_name": "Python 3"
    },
    "language_info": {
      "name": "python"
    }
  },
  "cells": [
    {
      "cell_type": "markdown",
      "source": [
        "#Codigo funcional de funciones"
      ],
      "metadata": {
        "id": "h3PBvNpkZvIK"
      }
    },
    {
      "cell_type": "markdown",
      "source": [
        "$$y1=log(x)$$\n",
        "\n",
        "##Condiciones\n",
        "\n",
        "1. $x>0$\n"
      ],
      "metadata": {
        "id": "ruJjpCHBZ265"
      }
    },
    {
      "cell_type": "code",
      "source": [
        "from math import log\n",
        "\n",
        "x = float(input('Asigne un valor a x: '))\n",
        "if (x>0):\n",
        "  y1=log(x,10)\n",
        "  print('y1 es {:.3f}'.format(y1))\n",
        "else:\n",
        "  print('fuera del dominio ')"
      ],
      "metadata": {
        "id": "DQp7OTPIwvuq",
        "colab": {
          "base_uri": "https://localhost:8080/"
        },
        "outputId": "45f52edc-0131-4b2a-c8b8-4f103a43b532"
      },
      "execution_count": 2,
      "outputs": [
        {
          "output_type": "stream",
          "name": "stdout",
          "text": [
            "Asigne un valor a x: 9\n",
            "y1 es 0.954\n"
          ]
        }
      ]
    },
    {
      "cell_type": "markdown",
      "source": [
        "$$y2=log(\\sqrt{x})$$"
      ],
      "metadata": {
        "id": "SmVgszG5q8MW"
      }
    },
    {
      "cell_type": "code",
      "source": [
        "from math import log\n",
        "from math import sqrt \n",
        "\n",
        "x = float(input('Asigne un valor a x: '))\n",
        "if (x>0):\n",
        "  y2=log(sqrt(x),10)\n",
        "  print('y2 es {:.2f}'.format(y2))\n",
        "else:\n",
        "  print('fuera del dominio')"
      ],
      "metadata": {
        "colab": {
          "base_uri": "https://localhost:8080/"
        },
        "id": "0RkAjiKmr4rL",
        "outputId": "f625088c-408b-4855-939f-f063346758ea"
      },
      "execution_count": 6,
      "outputs": [
        {
          "output_type": "stream",
          "name": "stdout",
          "text": [
            "Asigne un valor a x: -2\n",
            "fuera del dominio\n"
          ]
        }
      ]
    },
    {
      "cell_type": "markdown",
      "source": [
        "$$y3=log(\\sqrt{x^{2}-1})$$"
      ],
      "metadata": {
        "id": "zJnBWwEuut5q"
      }
    },
    {
      "cell_type": "code",
      "source": [
        "from math import log\n",
        "from math import sqrt \n",
        "\n",
        "x = float(input('Asigne un valor a x: '))\n",
        "if (x!=1) and (x!=0):\n",
        "  y3=log(sqrt((x**2)-1),10)\n",
        "  print('y3 es {:.2}'.format(y3))\n",
        "else:\n",
        "  print('fuera del dominio')"
      ],
      "metadata": {
        "colab": {
          "base_uri": "https://localhost:8080/"
        },
        "id": "4gyek7lMvXJd",
        "outputId": "6fdaa8a5-0484-478e-96f8-71d12ab6524d"
      },
      "execution_count": 10,
      "outputs": [
        {
          "output_type": "stream",
          "name": "stdout",
          "text": [
            "Asigne un valor a x: 2\n",
            "y3 es 0.24\n"
          ]
        }
      ]
    },
    {
      "cell_type": "markdown",
      "source": [
        "$$y4=\\frac{log\\sqrt{x-1}}{x^{2}+1}$$"
      ],
      "metadata": {
        "id": "9dOq0IGpxVaX"
      }
    },
    {
      "cell_type": "code",
      "source": [
        "from math import log\n",
        "from math import sqrt \n",
        "from decimal import Decimal\n",
        "\n",
        "x = float(input('Asigne un valor a x: '))\n",
        "if (x>1):\n",
        "  y4=Decimal(log(sqrt(x-1),10)) / Decimal((x**2)+1)\n",
        "  print('y4 es {:.2}'.format(y4))\n",
        "else:\n",
        "  print('Fuera del dominio')"
      ],
      "metadata": {
        "colab": {
          "base_uri": "https://localhost:8080/"
        },
        "id": "prWF_mWOygfd",
        "outputId": "e3b66f42-e362-4a5a-937a-a2217816275d"
      },
      "execution_count": 13,
      "outputs": [
        {
          "output_type": "stream",
          "name": "stdout",
          "text": [
            "Asigne un valor a x: 2\n",
            "y4 es 0\n"
          ]
        }
      ]
    },
    {
      "cell_type": "markdown",
      "source": [
        "$$y5=\\frac{x-1}{log(x)}$$"
      ],
      "metadata": {
        "id": "gtahMsUv14Ha"
      }
    },
    {
      "cell_type": "code",
      "source": [
        "from math import log\n",
        "from decimal import Decimal\n",
        "\n",
        "x = float(input('Asigne un valor a x: '))\n",
        "if (x>1):\n",
        "  y5=Decimal(x-1) / Decimal(log(x,10))\n",
        "  print('y5 es {:.2f}'.format(y5))\n",
        "else:\n",
        "  print('fuera del dominio')"
      ],
      "metadata": {
        "colab": {
          "base_uri": "https://localhost:8080/"
        },
        "id": "KShH36ZJ2fdl",
        "outputId": "9b7cb499-f991-442a-a6ba-5def611d2098"
      },
      "execution_count": 21,
      "outputs": [
        {
          "output_type": "stream",
          "name": "stdout",
          "text": [
            "Asigne un valor a x: 2\n",
            "y5 es 3.32\n"
          ]
        }
      ]
    },
    {
      "cell_type": "markdown",
      "source": [
        "$$y6=\\frac{1}{x}+\\sqrt{x-1}$$"
      ],
      "metadata": {
        "id": "s_P7C0ad5I3R"
      }
    },
    {
      "cell_type": "code",
      "source": [
        "from decimal import Decimal\n",
        "from math import sqrt \n",
        "\n",
        "x = float(input('Asigne un valor a x:'))\n",
        "if (x>=1):\n",
        "  y6=Decimal(1) / Decimal(x) + sqrt(x-1)\n",
        "  print('y6 es {:.2f}'.format(y6))\n",
        "else:\n",
        "  print('fuera del dominio')  "
      ],
      "metadata": {
        "id": "9yYrdHp15ptD"
      },
      "execution_count": null,
      "outputs": []
    },
    {
      "cell_type": "markdown",
      "source": [
        "$$y7=\\frac{1}{x}+\\sqrt{x-1}-\\frac{1}{log(\\frac{1}{x+1})}$$"
      ],
      "metadata": {
        "id": "DTeZnEJJGdhv"
      }
    },
    {
      "cell_type": "code",
      "source": [
        ""
      ],
      "metadata": {
        "id": "zZJfJEl1J_cL"
      },
      "execution_count": null,
      "outputs": []
    },
    {
      "cell_type": "markdown",
      "source": [
        "$$y8=\\frac{2}{x^{2}+1}$$"
      ],
      "metadata": {
        "id": "NqF3ZmMHKAsF"
      }
    },
    {
      "cell_type": "code",
      "source": [
        ""
      ],
      "metadata": {
        "id": "8CK7mXyqKiZ0"
      },
      "execution_count": null,
      "outputs": []
    },
    {
      "cell_type": "markdown",
      "source": [
        "$$y9=\\frac{1}{n}\\sum_{i=1}^{n}{x}_i$$"
      ],
      "metadata": {
        "id": "n0kjEmmqKjfi"
      }
    },
    {
      "cell_type": "code",
      "source": [
        ""
      ],
      "metadata": {
        "id": "RFmHCFsGL6b2"
      },
      "execution_count": null,
      "outputs": []
    },
    {
      "cell_type": "markdown",
      "source": [
        "$$y10=\\frac{1}{n-1}\\sum_{i=1}^{n}({x}_i-\\bar{x})$$"
      ],
      "metadata": {
        "id": "_r8fLAwvL7Qe"
      }
    },
    {
      "cell_type": "code",
      "source": [
        ""
      ],
      "metadata": {
        "id": "uZ3dpdx1Ooqg"
      },
      "execution_count": null,
      "outputs": []
    },
    {
      "cell_type": "markdown",
      "source": [
        "$$y11=\\frac{\\sqrt{y10}}{y9}$$"
      ],
      "metadata": {
        "id": "AESoXC7hOyoy"
      }
    },
    {
      "cell_type": "code",
      "source": [
        ""
      ],
      "metadata": {
        "id": "N5GWwVwWRx8x"
      },
      "execution_count": null,
      "outputs": []
    }
  ]
}